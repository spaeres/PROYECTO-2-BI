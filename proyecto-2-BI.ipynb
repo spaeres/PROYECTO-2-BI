{
 "cells": [
  {
   "cell_type": "markdown",
   "id": "82dee63a36d14932",
   "metadata": {},
   "source": [
    "# Proyecto 2 - Encuesta Multiproposito\n",
    "\n",
    "**Integrantes**\n",
    "- Juan Sebastian Sanchez Delgado - 202013577\n",
    "- Juanita Ovalle\n",
    "- Miguel Angel Cardenas - 202010998\n",
    "- Karol Valentina Chaves\n",
    "- Santiago Paeres Gonzalez - 201425176\n"
   ]
  },
  {
   "cell_type": "markdown",
   "id": "a8e993a5ded6b4cc",
   "metadata": {},
   "source": [
    "## 1. Preparacion de datos\n",
    "En esta etapa se analizan las caracteristicas principales del conjunto de datos, asi como también las dimensiones de calidad de estos (completitud, unicidad, consistencia, validez). Posteriormente, se limpian los datos y se transforman para la futura etapa de modelamiento."
   ]
  },
  {
   "cell_type": "code",
   "execution_count": 4,
   "id": "initial_id",
   "metadata": {
    "ExecuteTime": {
     "end_time": "2023-11-23T04:35:32.007763Z",
     "start_time": "2023-11-23T04:35:31.430507Z"
    }
   },
   "outputs": [],
   "source": [
    "# Se importan las librerias a usar y se espcifica un numero maximo de filas y columnas\n",
    "import numpy as np\n",
    "import pandas as pd\n",
    "\n",
    "from joblib import dump, load\n",
    "\n",
    "import matplotlib.pyplot as plt\n",
    "import seaborn as sns\n",
    "\n",
    "from sklearn.model_selection import train_test_split\n",
    "from sklearn.linear_model import LinearRegression\n",
    "from sklearn.pipeline import Pipeline\n",
    "from sklearn.compose import ColumnTransformer\n",
    "from sklearn.preprocessing import StandardScaler\n",
    "from sklearn.preprocessing import PolynomialFeatures\n",
    "from sklearn.metrics import mean_absolute_error, mean_squared_error, r2_score\n",
    "\n",
    "import scipy.stats as stats\n",
    "\n",
    "pd.set_option(\"display.max_columns\", None)\n",
    "pd.set_option(\"display.max_rows\", 50)"
   ]
  },
  {
   "cell_type": "code",
   "execution_count": 5,
   "id": "42bc511004149dcc",
   "metadata": {
    "ExecuteTime": {
     "end_time": "2023-11-23T04:36:34.006802Z",
     "start_time": "2023-11-23T04:35:31.439388Z"
    }
   },
   "outputs": [
    {
     "name": "stderr",
     "output_type": "stream",
     "text": [
      "/var/folders/lf/7dykkp1x3jscxj8qjtjfxs4h0000gn/T/ipykernel_80229/3571502707.py:4: DtypeWarning: Columns (145,295,297,380,381,383,469,495,496,499,500,501,508,509,510,511) have mixed types. Specify dtype option on import or set low_memory=False.\n",
      "  df_encuesta_2017 = pd.read_csv(\"./DATOS/Proyecto 2 - BI - Asma DatosAjus/Datos_proyecto_II_BI_2017.csv\", encoding='utf-8')\n",
      "/var/folders/lf/7dykkp1x3jscxj8qjtjfxs4h0000gn/T/ipykernel_80229/3571502707.py:5: DtypeWarning: Columns (12,145,146,147,280,285,295,296,297,304,379,380,381,382,383,469,470,495,496,498,499,500,501,507,508,509,510,511,512,513) have mixed types. Specify dtype option on import or set low_memory=False.\n",
      "  df_encuesta_sin_asma_2017 = pd.read_csv(\"./DATOS/DatosMultipropositoSinAsma-Proy2/Datos_proyecto_II_BI_2017_sin_asma.csv\", encoding='latin-1')\n"
     ]
    },
    {
     "ename": "UnicodeDecodeError",
     "evalue": "'utf-8' codec can't decode byte 0xf1 in position 57: invalid continuation byte",
     "output_type": "error",
     "traceback": [
      "\u001b[0;31m---------------------------------------------------------------------------\u001b[0m",
      "\u001b[0;31mUnicodeDecodeError\u001b[0m                        Traceback (most recent call last)",
      "File \u001b[0;32m~/anaconda3/lib/python3.11/site-packages/pandas/_libs/parsers.pyx:1083\u001b[0m, in \u001b[0;36mpandas._libs.parsers.TextReader._convert_tokens\u001b[0;34m()\u001b[0m\n",
      "File \u001b[0;32m~/anaconda3/lib/python3.11/site-packages/pandas/_libs/parsers.pyx:1233\u001b[0m, in \u001b[0;36mpandas._libs.parsers.TextReader._convert_with_dtype\u001b[0;34m()\u001b[0m\n",
      "File \u001b[0;32m~/anaconda3/lib/python3.11/site-packages/pandas/_libs/parsers.pyx:1246\u001b[0m, in \u001b[0;36mpandas._libs.parsers.TextReader._string_convert\u001b[0;34m()\u001b[0m\n",
      "File \u001b[0;32m~/anaconda3/lib/python3.11/site-packages/pandas/_libs/parsers.pyx:1444\u001b[0m, in \u001b[0;36mpandas._libs.parsers._string_box_utf8\u001b[0;34m()\u001b[0m\n",
      "\u001b[0;31mUnicodeDecodeError\u001b[0m: 'utf-8' codec can't decode byte 0xf1 in position 57: invalid continuation byte",
      "\nDuring handling of the above exception, another exception occurred:\n",
      "\u001b[0;31mUnicodeDecodeError\u001b[0m                        Traceback (most recent call last)",
      "Cell \u001b[0;32mIn[5], line 10\u001b[0m\n\u001b[1;32m      7\u001b[0m df_encuesta_2017 \u001b[38;5;241m=\u001b[39m pd\u001b[38;5;241m.\u001b[39mconcat([df_encuesta_2017, df_encuesta_sin_asma_2017], axis\u001b[38;5;241m=\u001b[39m\u001b[38;5;241m0\u001b[39m)\n\u001b[1;32m      9\u001b[0m \u001b[38;5;66;03m# Encuesta año 2021:\u001b[39;00m\n\u001b[0;32m---> 10\u001b[0m df_encuesta_2021 \u001b[38;5;241m=\u001b[39m pd\u001b[38;5;241m.\u001b[39mread_csv(\u001b[38;5;124m\"\u001b[39m\u001b[38;5;124m./DATOS/Proyecto 2 - BI - Asma DatosAjus/Datos_proyecto_II_BI_2021.csv\u001b[39m\u001b[38;5;124m\"\u001b[39m, encoding\u001b[38;5;241m=\u001b[39m\u001b[38;5;124m'\u001b[39m\u001b[38;5;124mutf-8\u001b[39m\u001b[38;5;124m'\u001b[39m, sep\u001b[38;5;241m=\u001b[39m\u001b[38;5;124m\"\u001b[39m\u001b[38;5;124m;\u001b[39m\u001b[38;5;124m\"\u001b[39m)\n\u001b[1;32m     11\u001b[0m df_encuesta_sin_asma_2021 \u001b[38;5;241m=\u001b[39m pd\u001b[38;5;241m.\u001b[39mread_csv(\u001b[38;5;124m\"\u001b[39m\u001b[38;5;124m./DATOS/DatosMultipropositoSinAsma-Proy2/Datos_proyecto_II_BI_2021_sin_asma.csv\u001b[39m\u001b[38;5;124m\"\u001b[39m, encoding\u001b[38;5;241m=\u001b[39m\u001b[38;5;124m'\u001b[39m\u001b[38;5;124mlatin-1\u001b[39m\u001b[38;5;124m'\u001b[39m)\n\u001b[1;32m     13\u001b[0m df_encuesta_2021 \u001b[38;5;241m=\u001b[39m pd\u001b[38;5;241m.\u001b[39mconcat([df_encuesta_2021, df_encuesta_sin_asma_2021], axis\u001b[38;5;241m=\u001b[39m\u001b[38;5;241m0\u001b[39m)\n",
      "File \u001b[0;32m~/anaconda3/lib/python3.11/site-packages/pandas/util/_decorators.py:211\u001b[0m, in \u001b[0;36mdeprecate_kwarg.<locals>._deprecate_kwarg.<locals>.wrapper\u001b[0;34m(*args, **kwargs)\u001b[0m\n\u001b[1;32m    209\u001b[0m     \u001b[38;5;28;01melse\u001b[39;00m:\n\u001b[1;32m    210\u001b[0m         kwargs[new_arg_name] \u001b[38;5;241m=\u001b[39m new_arg_value\n\u001b[0;32m--> 211\u001b[0m \u001b[38;5;28;01mreturn\u001b[39;00m func(\u001b[38;5;241m*\u001b[39margs, \u001b[38;5;241m*\u001b[39m\u001b[38;5;241m*\u001b[39mkwargs)\n",
      "File \u001b[0;32m~/anaconda3/lib/python3.11/site-packages/pandas/util/_decorators.py:331\u001b[0m, in \u001b[0;36mdeprecate_nonkeyword_arguments.<locals>.decorate.<locals>.wrapper\u001b[0;34m(*args, **kwargs)\u001b[0m\n\u001b[1;32m    325\u001b[0m \u001b[38;5;28;01mif\u001b[39;00m \u001b[38;5;28mlen\u001b[39m(args) \u001b[38;5;241m>\u001b[39m num_allow_args:\n\u001b[1;32m    326\u001b[0m     warnings\u001b[38;5;241m.\u001b[39mwarn(\n\u001b[1;32m    327\u001b[0m         msg\u001b[38;5;241m.\u001b[39mformat(arguments\u001b[38;5;241m=\u001b[39m_format_argument_list(allow_args)),\n\u001b[1;32m    328\u001b[0m         \u001b[38;5;167;01mFutureWarning\u001b[39;00m,\n\u001b[1;32m    329\u001b[0m         stacklevel\u001b[38;5;241m=\u001b[39mfind_stack_level(),\n\u001b[1;32m    330\u001b[0m     )\n\u001b[0;32m--> 331\u001b[0m \u001b[38;5;28;01mreturn\u001b[39;00m func(\u001b[38;5;241m*\u001b[39margs, \u001b[38;5;241m*\u001b[39m\u001b[38;5;241m*\u001b[39mkwargs)\n",
      "File \u001b[0;32m~/anaconda3/lib/python3.11/site-packages/pandas/io/parsers/readers.py:950\u001b[0m, in \u001b[0;36mread_csv\u001b[0;34m(filepath_or_buffer, sep, delimiter, header, names, index_col, usecols, squeeze, prefix, mangle_dupe_cols, dtype, engine, converters, true_values, false_values, skipinitialspace, skiprows, skipfooter, nrows, na_values, keep_default_na, na_filter, verbose, skip_blank_lines, parse_dates, infer_datetime_format, keep_date_col, date_parser, dayfirst, cache_dates, iterator, chunksize, compression, thousands, decimal, lineterminator, quotechar, quoting, doublequote, escapechar, comment, encoding, encoding_errors, dialect, error_bad_lines, warn_bad_lines, on_bad_lines, delim_whitespace, low_memory, memory_map, float_precision, storage_options)\u001b[0m\n\u001b[1;32m    935\u001b[0m kwds_defaults \u001b[38;5;241m=\u001b[39m _refine_defaults_read(\n\u001b[1;32m    936\u001b[0m     dialect,\n\u001b[1;32m    937\u001b[0m     delimiter,\n\u001b[0;32m   (...)\u001b[0m\n\u001b[1;32m    946\u001b[0m     defaults\u001b[38;5;241m=\u001b[39m{\u001b[38;5;124m\"\u001b[39m\u001b[38;5;124mdelimiter\u001b[39m\u001b[38;5;124m\"\u001b[39m: \u001b[38;5;124m\"\u001b[39m\u001b[38;5;124m,\u001b[39m\u001b[38;5;124m\"\u001b[39m},\n\u001b[1;32m    947\u001b[0m )\n\u001b[1;32m    948\u001b[0m kwds\u001b[38;5;241m.\u001b[39mupdate(kwds_defaults)\n\u001b[0;32m--> 950\u001b[0m \u001b[38;5;28;01mreturn\u001b[39;00m _read(filepath_or_buffer, kwds)\n",
      "File \u001b[0;32m~/anaconda3/lib/python3.11/site-packages/pandas/io/parsers/readers.py:611\u001b[0m, in \u001b[0;36m_read\u001b[0;34m(filepath_or_buffer, kwds)\u001b[0m\n\u001b[1;32m    608\u001b[0m     \u001b[38;5;28;01mreturn\u001b[39;00m parser\n\u001b[1;32m    610\u001b[0m \u001b[38;5;28;01mwith\u001b[39;00m parser:\n\u001b[0;32m--> 611\u001b[0m     \u001b[38;5;28;01mreturn\u001b[39;00m parser\u001b[38;5;241m.\u001b[39mread(nrows)\n",
      "File \u001b[0;32m~/anaconda3/lib/python3.11/site-packages/pandas/io/parsers/readers.py:1778\u001b[0m, in \u001b[0;36mTextFileReader.read\u001b[0;34m(self, nrows)\u001b[0m\n\u001b[1;32m   1771\u001b[0m nrows \u001b[38;5;241m=\u001b[39m validate_integer(\u001b[38;5;124m\"\u001b[39m\u001b[38;5;124mnrows\u001b[39m\u001b[38;5;124m\"\u001b[39m, nrows)\n\u001b[1;32m   1772\u001b[0m \u001b[38;5;28;01mtry\u001b[39;00m:\n\u001b[1;32m   1773\u001b[0m     \u001b[38;5;66;03m# error: \"ParserBase\" has no attribute \"read\"\u001b[39;00m\n\u001b[1;32m   1774\u001b[0m     (\n\u001b[1;32m   1775\u001b[0m         index,\n\u001b[1;32m   1776\u001b[0m         columns,\n\u001b[1;32m   1777\u001b[0m         col_dict,\n\u001b[0;32m-> 1778\u001b[0m     ) \u001b[38;5;241m=\u001b[39m \u001b[38;5;28mself\u001b[39m\u001b[38;5;241m.\u001b[39m_engine\u001b[38;5;241m.\u001b[39mread(  \u001b[38;5;66;03m# type: ignore[attr-defined]\u001b[39;00m\n\u001b[1;32m   1779\u001b[0m         nrows\n\u001b[1;32m   1780\u001b[0m     )\n\u001b[1;32m   1781\u001b[0m \u001b[38;5;28;01mexcept\u001b[39;00m \u001b[38;5;167;01mException\u001b[39;00m:\n\u001b[1;32m   1782\u001b[0m     \u001b[38;5;28mself\u001b[39m\u001b[38;5;241m.\u001b[39mclose()\n",
      "File \u001b[0;32m~/anaconda3/lib/python3.11/site-packages/pandas/io/parsers/c_parser_wrapper.py:230\u001b[0m, in \u001b[0;36mCParserWrapper.read\u001b[0;34m(self, nrows)\u001b[0m\n\u001b[1;32m    228\u001b[0m \u001b[38;5;28;01mtry\u001b[39;00m:\n\u001b[1;32m    229\u001b[0m     \u001b[38;5;28;01mif\u001b[39;00m \u001b[38;5;28mself\u001b[39m\u001b[38;5;241m.\u001b[39mlow_memory:\n\u001b[0;32m--> 230\u001b[0m         chunks \u001b[38;5;241m=\u001b[39m \u001b[38;5;28mself\u001b[39m\u001b[38;5;241m.\u001b[39m_reader\u001b[38;5;241m.\u001b[39mread_low_memory(nrows)\n\u001b[1;32m    231\u001b[0m         \u001b[38;5;66;03m# destructive to chunks\u001b[39;00m\n\u001b[1;32m    232\u001b[0m         data \u001b[38;5;241m=\u001b[39m _concatenate_chunks(chunks)\n",
      "File \u001b[0;32m~/anaconda3/lib/python3.11/site-packages/pandas/_libs/parsers.pyx:808\u001b[0m, in \u001b[0;36mpandas._libs.parsers.TextReader.read_low_memory\u001b[0;34m()\u001b[0m\n",
      "File \u001b[0;32m~/anaconda3/lib/python3.11/site-packages/pandas/_libs/parsers.pyx:890\u001b[0m, in \u001b[0;36mpandas._libs.parsers.TextReader._read_rows\u001b[0;34m()\u001b[0m\n",
      "File \u001b[0;32m~/anaconda3/lib/python3.11/site-packages/pandas/_libs/parsers.pyx:1037\u001b[0m, in \u001b[0;36mpandas._libs.parsers.TextReader._convert_column_data\u001b[0;34m()\u001b[0m\n",
      "File \u001b[0;32m~/anaconda3/lib/python3.11/site-packages/pandas/_libs/parsers.pyx:1090\u001b[0m, in \u001b[0;36mpandas._libs.parsers.TextReader._convert_tokens\u001b[0;34m()\u001b[0m\n",
      "File \u001b[0;32m~/anaconda3/lib/python3.11/site-packages/pandas/_libs/parsers.pyx:1233\u001b[0m, in \u001b[0;36mpandas._libs.parsers.TextReader._convert_with_dtype\u001b[0;34m()\u001b[0m\n",
      "File \u001b[0;32m~/anaconda3/lib/python3.11/site-packages/pandas/_libs/parsers.pyx:1246\u001b[0m, in \u001b[0;36mpandas._libs.parsers.TextReader._string_convert\u001b[0;34m()\u001b[0m\n",
      "File \u001b[0;32m~/anaconda3/lib/python3.11/site-packages/pandas/_libs/parsers.pyx:1444\u001b[0m, in \u001b[0;36mpandas._libs.parsers._string_box_utf8\u001b[0;34m()\u001b[0m\n",
      "\u001b[0;31mUnicodeDecodeError\u001b[0m: 'utf-8' codec can't decode byte 0xf1 in position 57: invalid continuation byte"
     ]
    }
   ],
   "source": [
    "# Se cargan los datos\n",
    "\n",
    "# Encuesta año 2017:\n",
    "df_encuesta_2017 = pd.read_csv(\"./DATOS/Proyecto 2 - BI - Asma DatosAjus/Datos_proyecto_II_BI_2017.csv\", encoding='utf-8')\n",
    "df_encuesta_sin_asma_2017 = pd.read_csv(\"./DATOS/DatosMultipropositoSinAsma-Proy2/Datos_proyecto_II_BI_2017_sin_asma.csv\", encoding='latin-1')\n",
    "# Combinar los DataFrames a lo largo de las filas (axis=0)\n",
    "df_encuesta_2017 = pd.concat([df_encuesta_2017, df_encuesta_sin_asma_2017], axis=0)\n",
    "\n",
    "# Encuesta año 2021:\n",
    "df_encuesta_2021 = pd.read_csv(\"./DATOS/Proyecto 2 - BI - Asma DatosAjus/Datos_proyecto_II_BI_2021.csv\", encoding='utf-8', sep=\";\")\n",
    "df_encuesta_sin_asma_2021 = pd.read_csv(\"./DATOS/DatosMultipropositoSinAsma-Proy2/Datos_proyecto_II_BI_2021_sin_asma.csv\", encoding='latin-1')\n",
    "\n",
    "df_encuesta_2021 = pd.concat([df_encuesta_2021, df_encuesta_sin_asma_2021], axis=0)"
   ]
  },
  {
   "cell_type": "code",
   "execution_count": null,
   "id": "ecd4cb2711a67c20",
   "metadata": {
    "ExecuteTime": {
     "end_time": "2023-11-23T04:36:34.063701Z",
     "start_time": "2023-11-23T04:36:34.044312Z"
    }
   },
   "outputs": [],
   "source": [
    "df_encuesta_2017.shape"
   ]
  },
  {
   "cell_type": "code",
   "execution_count": null,
   "id": "b87838d4351bda7b",
   "metadata": {
    "ExecuteTime": {
     "end_time": "2023-11-23T04:36:34.065141Z",
     "start_time": "2023-11-23T04:36:34.047436Z"
    }
   },
   "outputs": [],
   "source": [
    "df_encuesta_2021.shape"
   ]
  },
  {
   "cell_type": "markdown",
   "id": "1d3baf0e3cf798a5",
   "metadata": {},
   "source": [
    "Como se puede ver la encuesta realizada en el año 2021 tiene una población más grande que la se hizo en el año 2017."
   ]
  },
  {
   "cell_type": "code",
   "execution_count": null,
   "id": "fd19e724b72ce7d4",
   "metadata": {
    "ExecuteTime": {
     "end_time": "2023-11-23T04:36:34.067164Z",
     "start_time": "2023-11-23T04:36:34.047702Z"
    }
   },
   "outputs": [],
   "source": [
    "df_encuesta_2017.dtypes"
   ]
  },
  {
   "cell_type": "code",
   "execution_count": null,
   "id": "c59523268f59a884",
   "metadata": {
    "ExecuteTime": {
     "end_time": "2023-11-23T04:36:34.067546Z",
     "start_time": "2023-11-23T04:36:34.047837Z"
    }
   },
   "outputs": [],
   "source": [
    "df_encuesta_2021.dtypes"
   ]
  },
  {
   "cell_type": "markdown",
   "id": "36bf18b4485779fd",
   "metadata": {},
   "source": [
    "La mayoria de las preguntas de la encuesta se responden de forma numerica. Es decir son de selección multiple."
   ]
  },
  {
   "cell_type": "code",
   "execution_count": null,
   "id": "8d7d10b943a1d5e0",
   "metadata": {
    "ExecuteTime": {
     "end_time": "2023-11-23T04:36:34.849478Z",
     "start_time": "2023-11-23T04:36:34.067611Z"
    }
   },
   "outputs": [],
   "source": [
    "df_encuesta_2017.head(15)"
   ]
  },
  {
   "cell_type": "code",
   "execution_count": null,
   "id": "10c1e8666af9216e",
   "metadata": {
    "ExecuteTime": {
     "end_time": "2023-11-23T04:36:35.847458Z",
     "start_time": "2023-11-23T04:36:34.865278Z"
    }
   },
   "outputs": [],
   "source": [
    "df_encuesta_2021.head(15)"
   ]
  },
  {
   "cell_type": "markdown",
   "id": "5addcf38b67218db",
   "metadata": {},
   "source": [
    "Ahora dentro del conjunto completo de datos sobre la Encuesta Multipropósito, se escogio un subconjunto de datos con las preguntas que son de interes para resolver los requerimientos analiticos planteados. Dentro de estas preguntas que se consideran de interes se incluyen:\n",
    "\n",
    "- Año 2017:\n",
    "\n",
    "    1. **LOCALIDAD_TEX**: Nombre de la localidad\n",
    "\n",
    "    2. **DPTOMPIO**: Divipola departamento-municipio\n",
    "        \n",
    "    3. **NPCFP14I**: A ... le han diagnosticado alguna de estas enfermedades o problemas de salud: 9. Asma? \n",
    "\n",
    "- Año 2021:\n",
    "    1. **DPTO**: Departamento\n",
    "\n",
    "    2. **MPIO**: Municipio\n",
    "\n",
    "    3. **NOMBRE_LOCALIDAD**: Nombre de la localidad \n",
    "\n",
    "    4. **NOMBRE_ESTRATO**: Nombre estrato de muestreo\n",
    "\n",
    "    5. **NVCBP15I**: ¿Cuáles de los siguientes problemas presenta el entorno donde está ubicada su vivienda?: 9. Contaminación de cuerpos de agua (ríos, caños, humedales, lagunas)\n",
    "\n",
    "    6. **NPCFP14F**: ¿A ...le han diagnosticado alguna de estas enfermedades o problemas de salud: 6. Enfermedades respiratorias crónicas como: Asma, EPOC, Enfisema?\n",
    "\n",
    "- Preguntas de interes para ambas encuentas:\n",
    "\n",
    "    1. **NVCBP11AA**: Estrato por tarifa de servicios publicos.\n",
    "\n",
    "    2. **NPCFP14H**: A ... le han diagnosticado alguna de estas enfermedades o problemas de salud: 8. ¿Enfermedades mentales, trastornos de la conciencia (depresión, ansiedad)? \n",
    "\n",
    "    3. **NPCFP36**: En los ÚLTIMOS 30 DÍAS, ¿cuántas veces por semana ... practicó deporte o realizó actividad física por 30 minutos continuos o más?\n",
    "\n",
    "    4. **NVCBP9**: ¿Algún espacio de la edificación donde está ubicada la vivienda está dedicado a negocios de industria, comercio o servicios? \n",
    "\n",
    "    5. **NVCBP12**: ¿Cuál es el material predominante de las paredes exteriores? \n",
    "\n",
    "    6. **NVCBP13**: ¿Cuál es el material predominante de los pisos? \n",
    "\n",
    "    7. **NVCBP14A**: La vivienda está cerca de:1. Fábricas o industrias \n",
    "\n",
    "    8. **NPCFP14B**: A ... le han diagnosticado alguna de estas enfermedades o problemas de salud: 2. Enfermedades respiratorias, bronquitis, enfisema? \n",
    "\n",
    "    9. **NVCBP14I**: La vivienda está cerca de:9. Caños de aguas residuales\n",
    "\n",
    "    10. **NVCBP15D**: ¿Cuáles de los siguientes problemas presenta el sector donde está ubicada su vivienda?4. Contaminación del aire\n",
    "\n",
    "    11. **NVCBP8A**: ¿La vivienda presenta:1. Humedades en el techo o en las paredes? \n",
    "        \n",
    "    12. **NVCBP8E**:¿La vivienda presenta:5. Grietas en el piso? \n",
    "\n",
    "    13. **NVCBP8B**:¿La vivienda presenta:2. Goteras en el techo?\n",
    "\n",
    "    14. **NVCBP4**: ¿La edificación está ubicada en un conjunto cerrado?\n",
    "\n",
    "    15. **NVCBP8D**:¿La vivienda presenta:4. Fallas en tuberías, cañerías o desagües?\n",
    "\n",
    "    16. **NVCBP8C**:¿La vivienda presenta:3. Grietas en techos y paredes?\n",
    "\n",
    "    17. **NVCBP8E**:¿La vivienda presenta:5. Grietas en el piso?\n",
    "\n",
    "    18. **NVCBP8G**:¿La vivienda presenta:7. Escasa ventilación?\n",
    "\n",
    "    19. **NVCBP10**:Tipo de vivienda"
   ]
  },
  {
   "cell_type": "code",
   "execution_count": null,
   "id": "d3c272e4655ad1ff",
   "metadata": {
    "ExecuteTime": {
     "end_time": "2023-11-23T04:36:35.851313Z",
     "start_time": "2023-11-23T04:36:35.470559Z"
    }
   },
   "outputs": [],
   "source": [
    "# Constantes utiles:\n",
    "COLUMNA_ASMA_2017 = 'NPCFP14I'\n",
    "\n",
    "COLUMNA_ASMA_2021 = 'NPCFP14F'\n",
    "\n",
    "# Se filtra el Dataframe por las columnas de interes\n",
    "preguntas_interes_2017 = ['LOCALIDAD_TEX', 'DPTOMPIO', COLUMNA_ASMA_2017]\n",
    "\n",
    "preguntas_interes_2021 = ['DPTO', 'MPIO', 'NOMBRE_LOCALIDAD', 'NOMBRE_ESTRATO', 'NVCBP15I', COLUMNA_ASMA_2021]\n",
    "\n",
    "preguntas_comunes = [\n",
    "    'NVCBP11AA', 'NPCFP14H', 'NPCFP36', 'NVCBP9',\n",
    "    'NVCBP12', 'NVCBP13', 'NVCBP14A', 'NPCFP14B', 'NVCBP14I',\n",
    "    'NVCBP15D', 'NVCBP8A', 'NVCBP8B', 'NVCBP4',\n",
    "    'NVCBP8D', 'NVCBP8C', 'NVCBP8E', 'NVCBP8G', 'NVCBP10'\n",
    "]\n",
    "\n",
    "df_preguntas_interes_2017 = df_encuesta_2017[preguntas_interes_2017+preguntas_comunes]\n",
    "\n",
    "df_preguntas_interes_2017"
   ]
  },
  {
   "cell_type": "code",
   "execution_count": null,
   "id": "fe17e41408fade07",
   "metadata": {
    "ExecuteTime": {
     "end_time": "2023-11-23T04:36:35.938714Z",
     "start_time": "2023-11-23T04:36:35.653228Z"
    }
   },
   "outputs": [],
   "source": [
    "df_preguntas_interes_2021 = df_encuesta_2021[preguntas_interes_2021+preguntas_comunes]\n",
    "\n",
    "df_preguntas_interes_2021"
   ]
  },
  {
   "cell_type": "code",
   "execution_count": null,
   "id": "23f0fb0b764e2185",
   "metadata": {
    "ExecuteTime": {
     "end_time": "2023-11-23T04:36:35.939052Z",
     "start_time": "2023-11-23T04:36:35.727276Z"
    }
   },
   "outputs": [],
   "source": [
    "df_preguntas_interes_2017.shape"
   ]
  },
  {
   "cell_type": "code",
   "execution_count": null,
   "id": "c86a7a2a7034b1c9",
   "metadata": {
    "ExecuteTime": {
     "end_time": "2023-11-23T04:36:35.939337Z",
     "start_time": "2023-11-23T04:36:35.737510Z"
    }
   },
   "outputs": [],
   "source": [
    "df_preguntas_interes_2017.dtypes"
   ]
  },
  {
   "cell_type": "markdown",
   "id": "15a07a2f7cd799a1",
   "metadata": {},
   "source": [
    "Todas las respuestas a las preguntas de interes seleccionadas son de tipo numerico, como se puede ver en la tabla superior."
   ]
  },
  {
   "cell_type": "markdown",
   "id": "89dc82fc089f992c",
   "metadata": {},
   "source": [
    "### 1.1 Completitud"
   ]
  },
  {
   "cell_type": "code",
   "execution_count": null,
   "id": "62eaa0e9e1ea3ee3",
   "metadata": {
    "ExecuteTime": {
     "end_time": "2023-11-23T04:36:35.939981Z",
     "start_time": "2023-11-23T04:36:35.759554Z"
    }
   },
   "outputs": [],
   "source": [
    "# Se muestra la proporcion de registros con valores nulos con respecto a la totalidad de registros\n",
    "df_preguntas_interes_2017.isnull().sum() / df_preguntas_interes_2017.shape[0]"
   ]
  },
  {
   "cell_type": "markdown",
   "id": "2768452ef3af9350",
   "metadata": {},
   "source": [
    "Se encuentran aproximadamente 32.7% de los valores nulos para las localidades. Del mismo modo, se registran algunos porcentajes de valores nulos en algunas preguntas significativas.  Por ejemplo, en NPCFP36, es aproximadamente del 14.5%. En caso de no saber qué hacer con los registros nulos y, ya que no representan una porcentanje tan alto del total de los datos, se opta por borrar los valores nulos."
   ]
  },
  {
   "cell_type": "code",
   "execution_count": null,
   "id": "310c791267d0bfe6",
   "metadata": {
    "ExecuteTime": {
     "end_time": "2023-11-23T04:36:36.002496Z",
     "start_time": "2023-11-23T04:36:35.801960Z"
    }
   },
   "outputs": [],
   "source": [
    "# Eliminar todos los valores nulos en el DataFrame\n",
    "df_preguntas_interes_2017 = df_preguntas_interes_2017.dropna()"
   ]
  },
  {
   "cell_type": "code",
   "execution_count": null,
   "id": "742a8967134197a3",
   "metadata": {
    "ExecuteTime": {
     "end_time": "2023-11-23T04:36:36.003087Z",
     "start_time": "2023-11-23T04:36:35.878111Z"
    }
   },
   "outputs": [],
   "source": [
    "df_preguntas_interes_2017.isnull().sum() / df_preguntas_interes_2017.shape[0]"
   ]
  },
  {
   "cell_type": "markdown",
   "id": "ff18510bb02b3578",
   "metadata": {},
   "source": [
    "Como se puede ver los regitros nulos (NaN) fueron exitosamente eliminados depues de aplicar la trasformación. \n",
    "\n",
    "Ahora se realiza el mismo procedimiento para la encuesta del 2021:"
   ]
  },
  {
   "cell_type": "code",
   "execution_count": null,
   "id": "a2a822f2dbaef215",
   "metadata": {
    "ExecuteTime": {
     "end_time": "2023-11-23T04:36:36.148803Z",
     "start_time": "2023-11-23T04:36:35.922995Z"
    }
   },
   "outputs": [],
   "source": [
    "# Se muestra la proporcion de registros con valores nulos con respecto a la totalidad de registros\n",
    "df_preguntas_interes_2021.isnull().sum() / df_preguntas_interes_2021.shape[0]"
   ]
  },
  {
   "cell_type": "markdown",
   "id": "d02a675b7ad683c9",
   "metadata": {},
   "source": [
    "Algunos valores referentes a la ubicacion del encuestado como COD_LOCALIDAD, NOMBRE_LOCALIDAD, y COD_UPZ_GRUPO tienen porcentajes de valores nulos de 16.12%, 16.12% y 18.22% respectivamente. Al igual que con la encuesta de 2017 se procede a borrar estos registros, "
   ]
  },
  {
   "cell_type": "code",
   "execution_count": null,
   "id": "984e05bc93540329",
   "metadata": {
    "ExecuteTime": {
     "end_time": "2023-11-23T04:36:36.466594Z",
     "start_time": "2023-11-23T04:36:35.971829Z"
    }
   },
   "outputs": [],
   "source": [
    "# Eliminar todos los valores nulos en el DataFrame\n",
    "df_preguntas_interes_2021 = df_preguntas_interes_2021.dropna()"
   ]
  },
  {
   "cell_type": "code",
   "execution_count": null,
   "id": "7eb16018e452825c",
   "metadata": {
    "ExecuteTime": {
     "end_time": "2023-11-23T04:36:36.469025Z",
     "start_time": "2023-11-23T04:36:36.054866Z"
    }
   },
   "outputs": [],
   "source": [
    "# Se muestra la proporcion de registros con valores nulos con respecto a la totalidad de registros\n",
    "df_preguntas_interes_2021.isnull().sum() / df_preguntas_interes_2021.shape[0]"
   ]
  },
  {
   "cell_type": "markdown",
   "id": "f01176808f4cf9e4",
   "metadata": {},
   "source": [
    "Como se puede ver los regitros nulos (NaN) fueron exitosamente eliminados depues de aplicar la trasformación."
   ]
  },
  {
   "cell_type": "markdown",
   "id": "a0756d954cb49e43",
   "metadata": {},
   "source": [
    "### 1.2 Unicidad"
   ]
  },
  {
   "cell_type": "code",
   "execution_count": null,
   "id": "9522d53da259ef8",
   "metadata": {
    "ExecuteTime": {
     "end_time": "2023-11-23T04:36:36.594782Z",
     "start_time": "2023-11-23T04:36:36.083372Z"
    }
   },
   "outputs": [],
   "source": [
    "# Se revisa el número de filas duplicadas\n",
    "# Calcular el porcentaje de filas duplicadas\n",
    "porcentaje_duplicadas_2017 = (df_preguntas_interes_2017.duplicated(keep=False).sum() / df_preguntas_interes_2017.shape[0]) * 100\n",
    "porcentaje_duplicadas_2021 = (df_preguntas_interes_2021.duplicated(keep=False).sum() / df_preguntas_interes_2021.shape[0]) * 100\n",
    "\n",
    "# Imprimir el resultado\n",
    "print(f'Porcentaje de filas duplicadas 2017: {porcentaje_duplicadas_2017:.2f}%')\n",
    "print(f'Porcentaje de filas duplicadas 2021: {porcentaje_duplicadas_2021:.2f}%')"
   ]
  },
  {
   "cell_type": "markdown",
   "id": "d628ebd33fcece1c",
   "metadata": {},
   "source": [
    "Aunque existe un porcentaje relativamente importante de filas repetidas en los Data Frames, es importante notar que esto puede ser un indicio que la poblacion a la cual se le hizo la encuesta dio respuestas muy similares entre sí. Sin embargo, también podria indicar errores en la recopilación de datos, pues se podrían haber incluido datos repetidos accidentalmente o haber existido problemas en el proceso de carga de datos.\n",
    " \n",
    "A pesar de esto, la encuesta no tiene un margen de error tan alto como para justificar que estas duplicaciones se deben al azar o al error estadístico o de contexto. De acuerdo a la docuentacion de la encuesta en la sección de **Procedimiento de muestreo**:\n",
    "\n",
    "\"*Para el cálculo de los tamaños de muestra se establecieron los siguientes parámetros para cada UPZ en Bogotá y para cada municipio de Cundinamarca: precisión esperada medida en términos del error estándar relativo igual a 7%, con un nivel de confiabilidad del 95%, para la prevalencia de alrededor del 10% y un efecto de diseño de 1,2.*\" \n",
    "\n",
    "Asi pues, más bien esta situación se puede deber a que las respuestas dadas fueron identicas entre la poblacion para el subconjutno de preguntas elegidas y que esta poblacion puede compartir situaciones similares que condicionaron sus respuestas a al conjunto de preguntas de interes seleccionadas.  Por tanto, no es prudente, ni necesario, eliminar los registros duplicados, sino utilizarlos para hacer un analisis más exashustivo más adelante para definir las causas de esta situación."
   ]
  },
  {
   "cell_type": "markdown",
   "id": "c7fce596bb812c17",
   "metadata": {},
   "source": [
    "### 1.3 Consistencia"
   ]
  },
  {
   "cell_type": "markdown",
   "id": "9fee7646560bb9ff",
   "metadata": {},
   "source": [
    "La consistencia de los datos es definida en términos de la integridad de los datos entre diferentes filas o columnas de una fuente o varias fuentes.\n",
    "\n",
    "En el caso de la encuesta multiproposito para el subconjunto de preguntas seleccionadas se espera que todas las respuestas sean de tipo numerico (ya sea int o float) pues las respuestas a estas preguntas son de selección multiple en la encuesta y las respuestas se representan con valores numericos."
   ]
  },
  {
   "cell_type": "code",
   "execution_count": null,
   "id": "1585ee651550d161",
   "metadata": {
    "ExecuteTime": {
     "end_time": "2023-11-23T04:36:39.138697Z",
     "start_time": "2023-11-23T04:36:36.396338Z"
    }
   },
   "outputs": [],
   "source": [
    "# Verificar si todas las filas contienen valores numéricos e ignorar columnas que si pueden tener valores no numericos:\n",
    "todas_filas_numericas_2017 = df_preguntas_interes_2017.drop(columns=['LOCALIDAD_TEX']).applymap(lambda x: isinstance(x, (int, float))).all(axis=1)\n",
    "todas_filas_numericas_2021 = df_preguntas_interes_2021.drop(columns=['NOMBRE_LOCALIDAD', 'NOMBRE_ESTRATO']).applymap(lambda x: isinstance(x, (int, float))).all(axis=1)\n",
    "\n",
    "# Verificar si hay algún False en la Serie resultante\n",
    "hay_falso_2017 = any(~todas_filas_numericas_2017)\n",
    "hay_falso_2021 = any(~todas_filas_numericas_2021)\n",
    "\n",
    "# Imprimir el resultado\n",
    "print(\"¿Hay algún valor no numerico en las filas para el 2017?\", hay_falso_2017)\n",
    "print(\"¿Hay algún valor no numerico en las filas para el 2021?\", hay_falso_2021)"
   ]
  },
  {
   "cell_type": "markdown",
   "id": "5f3ddd9173872d5e",
   "metadata": {},
   "source": [
    "Como se puede ver todas las filas que se suponen tener valores numericos, los tienen. Por tanto, son consistentes los datos con las repsuestas esperadas."
   ]
  },
  {
   "cell_type": "markdown",
   "id": "685fa305439c2b8a",
   "metadata": {},
   "source": [
    "### 1.4 Validacion"
   ]
  },
  {
   "cell_type": "markdown",
   "id": "fccdf47bd6beedb7",
   "metadata": {},
   "source": [
    "### 1.4.1 Revisar que los valores asignados tengan sentido para la encuesta."
   ]
  },
  {
   "cell_type": "code",
   "execution_count": null,
   "id": "12d20ba0cf028ec5",
   "metadata": {
    "ExecuteTime": {
     "end_time": "2023-11-23T04:36:40.224647Z",
     "start_time": "2023-11-23T04:36:39.164573Z"
    }
   },
   "outputs": [],
   "source": [
    "import pandas as pd\n",
    "\n",
    "# Supongamos que df_preguntas_interes_2017 es tu DataFrame\n",
    "\n",
    "# Verificar si hay valores no positivos en cada columna (excluyendo 'LOCALIDAD_TEX')\n",
    "valores_no_positivos = df_preguntas_interes_2017.drop(columns=['LOCALIDAD_TEX']).applymap(lambda x: x < 0)\n",
    "\n",
    "# Imprimir los resultados por columna\n",
    "for columna in valores_no_positivos.columns:\n",
    "    valores_no_positivos_en_columna = valores_no_positivos[columna]\n",
    "    if len(valores_no_positivos_en_columna[valores_no_positivos_en_columna].index.tolist())>0:\n",
    "        print(f\"Valores no positivos en la columna '{columna}':\")\n"
   ]
  },
  {
   "cell_type": "markdown",
   "id": "93082cc88fafbfa4",
   "metadata": {},
   "source": [
    "Como se puede ver todos los valores son positivos y, por tanto, son válidos y se ajustan a las respuestas esperadas de la encuesta."
   ]
  },
  {
   "cell_type": "code",
   "execution_count": null,
   "id": "ba069a8d6797763f",
   "metadata": {
    "ExecuteTime": {
     "end_time": "2023-11-23T04:36:41.060080Z",
     "start_time": "2023-11-23T04:36:40.027729Z"
    }
   },
   "outputs": [],
   "source": [
    "# Supongamos que df_preguntas_interes_2017 es tu DataFrame\n",
    "\n",
    "# Verificar si hay valores no positivos en cada columna (excluyendo 'LOCALIDAD_TEX')\n",
    "valores_no_positivos = df_preguntas_interes_2021.drop(columns=['NOMBRE_LOCALIDAD', 'NOMBRE_ESTRATO']).applymap(lambda x: x < 0)\n",
    "\n",
    "# Imprimir los resultados por columna\n",
    "for columna in valores_no_positivos.columns:\n",
    "    valores_no_positivos_en_columna = valores_no_positivos[columna]\n",
    "    if len(valores_no_positivos_en_columna[valores_no_positivos_en_columna].index.tolist())>0:\n",
    "        print(f\"Valores no positivos en la columna '{columna}':\")"
   ]
  },
  {
   "cell_type": "markdown",
   "id": "cbf9cc7e4a623ce4",
   "metadata": {},
   "source": [
    "## 2. Entendimiento de los datos"
   ]
  },
  {
   "cell_type": "markdown",
   "id": "b05ff26c",
   "metadata": {},
   "source": [
    "### 2.1 Histogramas\n",
    "En primer lugar, a continuacion se muestra un grafico de barras para mostrar cuales fueron el numero de personas con asma con respecto al numero total de los encuestados en 2017 y 2021, respectivamente."
   ]
  },
  {
   "cell_type": "code",
   "execution_count": 6,
   "id": "f9d9b6d4",
   "metadata": {},
   "outputs": [
    {
     "ename": "NameError",
     "evalue": "name 'df_preguntas_interes_2017' is not defined",
     "output_type": "error",
     "traceback": [
      "\u001b[0;31m---------------------------------------------------------------------------\u001b[0m",
      "\u001b[0;31mNameError\u001b[0m                                 Traceback (most recent call last)",
      "Cell \u001b[0;32mIn[6], line 2\u001b[0m\n\u001b[1;32m      1\u001b[0m \u001b[38;5;66;03m# Obtener las variables únicas para el eje x y ordenarlas\u001b[39;00m\n\u001b[0;32m----> 2\u001b[0m Encuestados_2017 \u001b[38;5;241m=\u001b[39m \u001b[38;5;28mlen\u001b[39m(df_preguntas_interes_2017)\n\u001b[1;32m      3\u001b[0m Encuestados_2021 \u001b[38;5;241m=\u001b[39m \u001b[38;5;28mlen\u001b[39m(df_preguntas_interes_2021)\n\u001b[1;32m      5\u001b[0m Personas_asma_2017 \u001b[38;5;241m=\u001b[39m (df_preguntas_interes_2017[\u001b[38;5;124m'\u001b[39m\u001b[38;5;124mNPCFP14I\u001b[39m\u001b[38;5;124m'\u001b[39m] \u001b[38;5;241m==\u001b[39m \u001b[38;5;241m1\u001b[39m)\u001b[38;5;241m.\u001b[39msum()\n",
      "\u001b[0;31mNameError\u001b[0m: name 'df_preguntas_interes_2017' is not defined"
     ]
    }
   ],
   "source": [
    "# Obtener las variables únicas para el eje x y ordenarlas\n",
    "Encuestados_2017 = len(df_preguntas_interes_2017)\n",
    "Encuestados_2021 = len(df_preguntas_interes_2021)\n",
    "\n",
    "Personas_asma_2017 = (df_preguntas_interes_2017['NPCFP14I'] == 1).sum()\n",
    "Personas_asma_2021 = (df_preguntas_interes_2021['NPCFP14F'] == 1).sum()\n",
    "\n",
    "print(\"Encuestados 2017: \" + str(Encuestados_2017))\n",
    "print(\"Personas con asma 2017: \" + str(Personas_asma_2017))\n",
    "print(\"Encuestados 2021: \" + str(Encuestados_2021))\n",
    "print(\"Personas con asma 2021: \" + str(Personas_asma_2021))\n"
   ]
  },
  {
   "cell_type": "code",
   "execution_count": 3,
   "id": "fc5db18a",
   "metadata": {},
   "outputs": [
    {
     "ename": "NameError",
     "evalue": "name 'encuestados_2017' is not defined",
     "output_type": "error",
     "traceback": [
      "\u001b[0;31m---------------------------------------------------------------------------\u001b[0m",
      "\u001b[0;31mNameError\u001b[0m                                 Traceback (most recent call last)",
      "Cell \u001b[0;32mIn[3], line 3\u001b[0m\n\u001b[1;32m      1\u001b[0m \u001b[38;5;66;03m# Datos obtenidos\u001b[39;00m\n\u001b[1;32m      2\u001b[0m anos \u001b[38;5;241m=\u001b[39m [\u001b[38;5;124m'\u001b[39m\u001b[38;5;124m2017\u001b[39m\u001b[38;5;124m'\u001b[39m, \u001b[38;5;124m'\u001b[39m\u001b[38;5;124m2021\u001b[39m\u001b[38;5;124m'\u001b[39m]\n\u001b[0;32m----> 3\u001b[0m encuestados \u001b[38;5;241m=\u001b[39m [encuestados_2017, encuestados_2021]\n\u001b[1;32m      4\u001b[0m personas_asma \u001b[38;5;241m=\u001b[39m [personas_asma_2017, personas_asma_2021]\n\u001b[1;32m      6\u001b[0m \u001b[38;5;66;03m# Datos obtenidos\u001b[39;00m\n",
      "\u001b[0;31mNameError\u001b[0m: name 'encuestados_2017' is not defined"
     ]
    }
   ],
   "source": [
    "# Datos obtenidos\n",
    "anos = ['2017', '2021']\n",
    "encuestados = [encuestados_2017, encuestados_2021]\n",
    "personas_asma = [personas_asma_2017, personas_asma_2021]\n",
    "\n",
    "# Datos obtenidos\n",
    "fechas = ['2017', '2021']\n",
    "encuestados = [encuestados_2017, encuestados_2021]\n",
    "personas_asma = [personas_asma_2017, personas_asma_2021]\n",
    "\n",
    "# Crear la gráfica de barras apiladas\n",
    "plt.figure(figsize=(10, 5))\n",
    "plt.bar(fechas, encuestados, color='blue', label='Encuestados')\n",
    "plt.bar(fechas, personas_asma, color='orange', label='Personas con Asma')\n",
    "plt.xlabel('Año')\n",
    "plt.ylabel('Número de Personas')\n",
    "plt.title('Comparación de Personas con Asma respecto a Encuestados por Año')\n",
    "plt.legend()\n",
    "plt.show()"
   ]
  },
  {
   "cell_type": "markdown",
   "id": "f37e1e4b",
   "metadata": {},
   "source": [
    "Ahora, se procederá a utilizar un gráfico de barras para mostrar las respuestas más comunes a la pregunta seleccionadas como relevante. Esto también sirve para verificar que ninguna de las respuetas a las preguntas, tengan un valor fuera del normal o esperado."
   ]
  },
  {
   "cell_type": "code",
   "execution_count": null,
   "id": "812f3688602f4cb2",
   "metadata": {
    "ExecuteTime": {
     "end_time": "2023-11-23T04:36:42.390387Z",
     "start_time": "2023-11-23T04:36:41.106439Z"
    }
   },
   "outputs": [],
   "source": [
    "# Supongamos que df_preguntas_interes_2017 y df_preguntas_interes_2021 son tus DataFrames\n",
    "\n",
    "# Obtener las variables únicas para el eje x y ordenarlas\n",
    "variables_2017 = df_preguntas_interes_2017['LOCALIDAD_TEX'].value_counts().index\n",
    "variables_2021 = df_preguntas_interes_2021['NOMBRE_LOCALIDAD'].value_counts().index\n",
    "\n",
    "# Crear una figura con dos subgráficos en una fila y dos columnas\n",
    "fig, axs = plt.subplots(1, 2, figsize=(14, 6))\n",
    "\n",
    "# Primer subgráfico\n",
    "axs[0].bar(variables_2017, df_preguntas_interes_2017['LOCALIDAD_TEX'].value_counts()[variables_2017], color='skyblue', edgecolor='black')\n",
    "axs[0].set_title('Frecuencia de Localidades en 2017')\n",
    "axs[0].set_xlabel('Localidades')\n",
    "axs[0].set_ylabel('Frecuencia')\n",
    "axs[0].tick_params(axis='x', rotation=90)  # Rotación y alineación horizontal a la derecha\n",
    "\n",
    "# Segundo subgráfico\n",
    "axs[1].bar(variables_2021, df_preguntas_interes_2021['NOMBRE_LOCALIDAD'].value_counts()[variables_2021], color='lightcoral', edgecolor='black')\n",
    "axs[1].set_title('Frecuencia de Localidades en 2021')\n",
    "axs[1].set_xlabel('Localidades')\n",
    "axs[1].set_ylabel('Frecuencia')\n",
    "axs[1].tick_params(axis='x', rotation=90)  # Rotación y alineación horizontal a la derecha\n",
    "\n",
    "# Ajustar el diseño para evitar solapamiento de etiquetas\n",
    "plt.tight_layout()\n",
    "\n",
    "# Mostrar la figura con los dos subgráficos\n",
    "plt.show()\n"
   ]
  },
  {
   "cell_type": "code",
   "execution_count": null,
   "id": "e44d280ccd00d2b2",
   "metadata": {
    "ExecuteTime": {
     "end_time": "2023-11-23T04:36:42.476984Z",
     "start_time": "2023-11-23T04:36:42.407545Z"
    }
   },
   "outputs": [],
   "source": [
    "df_preguntas_interes_2017['LOCALIDAD_TEX'].value_counts()"
   ]
  },
  {
   "cell_type": "code",
   "execution_count": null,
   "id": "3f22e14f8684d4be",
   "metadata": {
    "ExecuteTime": {
     "end_time": "2023-11-23T04:36:42.477328Z",
     "start_time": "2023-11-23T04:36:42.436858Z"
    }
   },
   "outputs": [],
   "source": [
    "df_preguntas_interes_2021['NOMBRE_LOCALIDAD'].value_counts()"
   ]
  },
  {
   "cell_type": "markdown",
   "id": "e4a74c1a542cbba2",
   "metadata": {},
   "source": [
    "Como se puede ver en el gráfico de barras todos los valores para las localidades tienen valores que tienen sentido. En el 2017 y 2021 la mayoria de las personas encuestadas eran de la localidad de Suba."
   ]
  },
  {
   "cell_type": "code",
   "execution_count": null,
   "id": "badc1353eb9ec0c9",
   "metadata": {
    "ExecuteTime": {
     "end_time": "2023-11-23T05:00:53.569268Z",
     "start_time": "2023-11-23T05:00:52.675173Z"
    }
   },
   "outputs": [],
   "source": [
    "# Obtener las variables únicas para el eje x y ordenarlas\n",
    "variables_2017 = df_preguntas_interes_2017['NVCBP11AA'].value_counts().index\n",
    "variables_2021 = df_preguntas_interes_2021['NVCBP11AA'].value_counts().index\n",
    "\n",
    "# Crear una figura con dos subgráficos en una fila y dos columnas\n",
    "fig, axs = plt.subplots(1, 2, figsize=(14, 6))\n",
    "\n",
    "# Primer subgráfico\n",
    "axs[0].bar(variables_2017, df_preguntas_interes_2017['NVCBP11AA'].value_counts()[variables_2017], color='skyblue', edgecolor='black')\n",
    "axs[0].set_title('Frecuencia de Estratos en 2017')\n",
    "axs[0].set_xlabel('Estrato')\n",
    "axs[0].set_ylabel('Frecuencia')\n",
    "axs[0].tick_params(axis='x', rotation=0)  \n",
    "\n",
    "# Segundo subgráfico\n",
    "axs[1].bar(variables_2021, df_preguntas_interes_2021['NVCBP11AA'].value_counts()[variables_2021], color='lightcoral', edgecolor='black')\n",
    "axs[1].set_title('Frecuencia de Estratos en 2021')\n",
    "axs[1].set_xlabel('Estrato')\n",
    "axs[1].set_ylabel('Frecuencia')\n",
    "axs[1].tick_params(axis='x', rotation=0)  \n",
    "\n",
    "# Ajustar el diseño para evitar solapamiento de etiquetas\n",
    "plt.tight_layout()\n",
    "\n",
    "# Mostrar la figura con los dos subgráficos\n",
    "plt.show()"
   ]
  },
  {
   "cell_type": "markdown",
   "id": "8fabdd1c987ace95",
   "metadata": {},
   "source": [
    "Como se puede ver en el gráfico superior los estratos 2 y 3 son los más prevalentes en la encuesta (tanto del 2017 y 2021) mientras que los estratos 1 y 6 no son tan relevantes. Igualmente, los estratos 5 y 6 tampoco aportan mucho peso a la encuesta."
   ]
  },
  {
   "cell_type": "markdown",
   "id": "3ad9e27f39ab75d5",
   "metadata": {},
   "source": [
    "#### 2.2 Barras de Frecuencia\n",
    "Con el objetivo de destacar de manera más efectiva las preguntas relevantes para el análisis, especialmente en casos donde una persona informa positivamente sobre una enfermedad respiratoria, se presenta un gráfico de barras. Este gráfico de frecuencia se construye asumiendo que la respuesta a alguna pregunta relacionada con enfermedades respiratorias fue afirmativa. La visualización busca resaltar de manera clara y concisa las tendencias y patrones específicos relacionados con este grupo de respuestas afirmativas, proporcionando así una perspectiva más enfocada en el contexto del análisis de enfermedades respiratorias.\n",
    "\n",
    "Para la encuensta realizada en el 2017:"
   ]
  },
  {
   "cell_type": "code",
   "execution_count": null,
   "id": "f184d07ddfa50e62",
   "metadata": {
    "ExecuteTime": {
     "end_time": "2023-11-23T04:36:49.702973Z",
     "start_time": "2023-11-23T04:36:43.544454Z"
    }
   },
   "outputs": [],
   "source": [
    "# Filtrar el DataFrame para cuando la respuesta a NPCFP14I es 1, es decir la persona tiene asma\n",
    "df_filtered = df_preguntas_interes_2017[df_preguntas_interes_2017['NPCFP14I'] == 1]\n",
    "\n",
    "# Obtener las variables diferentes de 'NPCFP14I'\n",
    "otras_variables = df_preguntas_interes_2017.columns[df_preguntas_interes_2017.columns != 'NPCFP14I']\n",
    "\n",
    "# Calcular el número de filas y columnas necesario para mostrar las gráficas\n",
    "num_filas = (len(otras_variables) + 2) // 3\n",
    "num_columnas = 3\n",
    "\n",
    "# Crear una figura con subgráficos\n",
    "fig, axs = plt.subplots(num_filas, num_columnas, figsize=(15, num_filas * 5))\n",
    "\n",
    "# Iterar sobre las otras variables y mostrar un gráfico de barras para cada una\n",
    "for i, variable in enumerate(otras_variables):\n",
    "    row = i // num_columnas\n",
    "    col = i % num_columnas\n",
    "\n",
    "    # Rotar las etiquetas del eje x solo en la primera fila\n",
    "    rotation = 90 if row == 0 else 45\n",
    "\n",
    "    sns.countplot(x=variable, data=df_filtered, ax=axs[row, col])\n",
    "    axs[row, col].set_title(f'Relación con {variable} cuando NPCFP14I=1')\n",
    "    axs[row, col].tick_params(axis='x', rotation=rotation)  # Ajustar la rotación\n",
    "\n",
    "# Ajustar el diseño\n",
    "plt.tight_layout()\n",
    "plt.show()"
   ]
  },
  {
   "cell_type": "code",
   "execution_count": null,
   "id": "45d939bdf83b682c",
   "metadata": {
    "ExecuteTime": {
     "end_time": "2023-11-23T04:52:05.844826Z",
     "start_time": "2023-11-23T04:51:57.728369Z"
    }
   },
   "outputs": [],
   "source": [
    "# Filtrar el DataFrame para cuando la respuesta a NPCFP14I es 1, es decir la persona tiene asma\n",
    "df_filtered = df_preguntas_interes_2021[df_preguntas_interes_2021[COLUMNA_ASMA_2021] == 1]\n",
    "\n",
    "# Obtener las variables diferentes de 'NPCFP14I'\n",
    "otras_variables = df_preguntas_interes_2021.columns[df_preguntas_interes_2021.columns != COLUMNA_ASMA_2021]\n",
    "\n",
    "# Calcular el número de filas y columnas necesario para mostrar las gráficas\n",
    "num_filas = (len(otras_variables) + 2) // 3\n",
    "num_columnas = 3\n",
    "\n",
    "# Crear una figura con subgráficos\n",
    "fig, axs = plt.subplots(num_filas, num_columnas, figsize=(15, num_filas * 5))\n",
    "\n",
    "# Iterar sobre las otras variables y mostrar un gráfico de barras para cada una\n",
    "for i, variable in enumerate(otras_variables):\n",
    "    row = i // num_columnas\n",
    "    col = i % num_columnas\n",
    "\n",
    "    # Rotar las etiquetas del eje x solo en la primera fila\n",
    "    rotation = 90 if row == 0 else 45\n",
    "\n",
    "    sns.countplot(x=variable, data=df_filtered, ax=axs[row, col])\n",
    "    axs[row, col].set_title(f'Relación con {variable} cuando NPCFP14F=1')\n",
    "    axs[row, col].tick_params(axis='x', rotation=rotation)  # Ajustar la rotación\n",
    "\n",
    "# Ajustar el diseño\n",
    "plt.tight_layout()\n",
    "plt.show()"
   ]
  },
  {
   "cell_type": "markdown",
   "id": "b17605a49ca378ce",
   "metadata": {},
   "source": [
    "### 2.3 Prueba de chi-cuadrado\n",
    "\n",
    "Para examinar la asociación entre varias variables categóricas, se puede utilizar la prueba de independencia de chi-cuadrado de Pearson. Esta prueba evalúa si hay una relación significativa entre dos variables categóricas.\n",
    "\n",
    "La prueba de chi-cuadrado (χ²) es una prueba estadística que se utiliza para determinar si hay una asociación significativa entre dos variables categóricas. La prueba evalúa si las observaciones empíricas, que están organizadas en una tabla de contingencia, difieren de las expectativas teóricas bajo la hipótesis nula de independencia entre las variables.\n",
    "\n",
    "\n",
    "La prueba de chi-cuadrado (χ²) es una prueba estadística que se utiliza para determinar si hay una asociación significativa entre dos variables categóricas. La prueba evalúa si las observaciones empíricas, que están organizadas en una tabla de contingencia, difieren de las expectativas teóricas bajo la hipótesis nula de independencia entre las variables.\n",
    "\n",
    "Aquí hay una descripción básica de cómo funciona la prueba de chi-cuadrado:\n",
    "\n",
    "1. Hipótesis Nula (H₀): La hipótesis nula asume que no hay asociación entre las dos variables categóricas; son independientes.\n",
    "\n",
    "2. Valor p: Se determina la probabilidad de obtener el estadístico de prueba observado (o uno más extremo) bajo la hipótesis nula.\n",
    "\n",
    "3. Conclusión: Si el valor p es menor que el nivel de significancia elegido (de 0.05), se rechaza la hipótesis nula, lo que sugiere que hay una asociación significativa entre las variables.\n",
    "\n",
    "En primer lugar, se hara este procedimiento para la encuesta realizada en el año 2017:"
   ]
  },
  {
   "cell_type": "code",
   "execution_count": null,
   "id": "ace7e20a60cc61f2",
   "metadata": {
    "ExecuteTime": {
     "end_time": "2023-11-23T04:36:58.339061Z",
     "start_time": "2023-11-23T04:36:58.338544Z"
    }
   },
   "outputs": [],
   "source": [
    "nivel_de_significancia = 0.05"
   ]
  },
  {
   "cell_type": "code",
   "execution_count": null,
   "id": "d3d2aa59c800b010",
   "metadata": {
    "ExecuteTime": {
     "end_time": "2023-11-23T04:36:59.538458Z",
     "start_time": "2023-11-23T04:36:58.350641Z"
    }
   },
   "outputs": [],
   "source": [
    "from scipy.stats import chi2_contingency\n",
    "\n",
    "# Seleccionar las columnas relevantes\n",
    "columnas_seleccionadas = preguntas_interes_2017 + preguntas_comunes\n",
    "\n",
    "# Crear una matriz para almacenar los p-values de chi-cuadrado\n",
    "p_values_matrix = pd.DataFrame(index=['NPCFP14I'], columns=columnas_seleccionadas)\n",
    "\n",
    "# Calcular las pruebas de chi-cuadrado y llenar la matriz\n",
    "for col in columnas_seleccionadas:\n",
    "    if col != 'NPCFP14I':\n",
    "        tabla_contingencia = pd.crosstab(df_preguntas_interes_2017['NPCFP14I'], df_preguntas_interes_2017[col])\n",
    "        chi2, p_value, _, _ = chi2_contingency(tabla_contingencia)\n",
    "        p_values_matrix.at['NPCFP14I', col] = p_value\n",
    "        print(\" Valor p: \", p_value, \" de NPCFP14I y \", col)\n",
    "\n",
    "# Convertir p-values a números y establecer NaN en 1 (sin significancia)\n",
    "p_values_matrix = p_values_matrix.apply(pd.to_numeric, errors='coerce').fillna(1)\n",
    "\n",
    "# Crear un mapa de calor\n",
    "plt.figure(figsize=(12, 4))\n",
    "sns.heatmap(p_values_matrix, annot=True, cmap='coolwarm', fmt=\".3f\")\n",
    "plt.title('Mapa de calor de correlación chi-cuadrado entre NPCFP14I y otras variables categóricas')\n",
    "plt.show()"
   ]
  },
  {
   "cell_type": "markdown",
   "id": "eb7484bf3a2b65fa",
   "metadata": {},
   "source": [
    "A partir del mapa de calor construido se analizará el valor p para cada una de las variables contruidas:\n",
    "\n",
    "\n",
    "1. Valor p menor que el nivel de significancia (0.05):\n",
    "\n",
    "    - Interpretación: Se rechaza la hipótesis nula.\n",
    "\n",
    "    - Significado: Hay evidencia significativa para decir que existe una correlación significativa entre las variables categoricas en estudio.\n",
    "    \n",
    "2. Valor p mayor que el nivel de significancia (0.05):\n",
    "\n",
    "    - Interpretación: No se rechaza la hipótesis nula.\n",
    "    \n",
    "    - Significado: No hay evidencia significativa para decir que existe una correlación significativa entre las variables categoricas en estudio."
   ]
  },
  {
   "cell_type": "code",
   "execution_count": null,
   "id": "3c060de08b111732",
   "metadata": {
    "ExecuteTime": {
     "end_time": "2023-11-23T04:36:59.604534Z",
     "start_time": "2023-11-23T04:36:59.556107Z"
    }
   },
   "outputs": [],
   "source": [
    "p_values_matrix\n"
   ]
  },
  {
   "cell_type": "markdown",
   "id": "fc698c5909f9c4eb",
   "metadata": {},
   "source": [
    "Construyendo la siguiente tabla se ilutra ilustra si el valor es menor al nivel de significancia o no:"
   ]
  },
  {
   "cell_type": "code",
   "execution_count": null,
   "id": "11c58da8afd7306a",
   "metadata": {
    "ExecuteTime": {
     "end_time": "2023-11-23T04:36:59.604841Z",
     "start_time": "2023-11-23T04:36:59.562002Z"
    }
   },
   "outputs": [],
   "source": [
    "p_values_matrix = p_values_matrix.applymap(lambda x: x < nivel_de_significancia)\n",
    "print(p_values_matrix.T)"
   ]
  },
  {
   "cell_type": "markdown",
   "id": "874cdf1795c5df16",
   "metadata": {},
   "source": [
    "Como se puede ver en la matriz superior NO existe una corelacion entre las siguientes variables categoricas:\n",
    "\n",
    "1. NPCFP14I y DPTOMPIO: ¿Cuál es el material predominante de las paredes exteriores?\n",
    "\n",
    "2. NPCFP14I y NVCBP12: Divipola departamento-municipio\n",
    "\n",
    "3. NPCFP14I y NVCBP4: ¿La edificación está ubicada en un conjunto cerrado?\n"
   ]
  },
  {
   "cell_type": "code",
   "execution_count": null,
   "id": "efff7a6e569d84e5",
   "metadata": {
    "ExecuteTime": {
     "end_time": "2023-11-23T04:37:01.164625Z",
     "start_time": "2023-11-23T04:36:59.575137Z"
    }
   },
   "outputs": [],
   "source": [
    "# Seleccionar las columnas relevantes\n",
    "columnas_seleccionadas = preguntas_interes_2021 + preguntas_comunes\n",
    "\n",
    "# Crear una matriz para almacenar los p-values de chi-cuadrado\n",
    "p_values_matrix = pd.DataFrame(index=['NPCFP14F'], columns=columnas_seleccionadas)\n",
    "\n",
    "# Calcular las pruebas de chi-cuadrado y llenar la matriz\n",
    "for col in columnas_seleccionadas:\n",
    "    if col != 'NPCFP14F':\n",
    "        tabla_contingencia = pd.crosstab(df_preguntas_interes_2021['NPCFP14F'], df_preguntas_interes_2021[col])\n",
    "        _, p_value, _, _ = chi2_contingency(tabla_contingencia)\n",
    "        p_values_matrix.at[COLUMNA_ASMA_2021, col] = p_value\n",
    "        print(\"Valor p: \", p_value, \" de NPCFP14F y \", col)\n",
    "\n",
    "# Convertir p-values a números y establecer NaN en 1 (sin significancia)\n",
    "p_values_matrix = p_values_matrix.apply(pd.to_numeric, errors='coerce').fillna(1)\n",
    "\n",
    "# Crear un mapa de calor\n",
    "plt.figure(figsize=(12, 4))\n",
    "sns.heatmap(p_values_matrix, annot=True, cmap='coolwarm', fmt=\".3f\")\n",
    "plt.title('Mapa de calor de correlación chi-cuadrado entre NPCFP14F y otras variables categóricas')\n",
    "plt.show()"
   ]
  },
  {
   "cell_type": "code",
   "execution_count": null,
   "id": "534edf024535f88a",
   "metadata": {
    "ExecuteTime": {
     "end_time": "2023-11-23T04:37:01.165243Z",
     "start_time": "2023-11-23T04:37:01.126601Z"
    }
   },
   "outputs": [],
   "source": [
    "p_values_matrix"
   ]
  },
  {
   "cell_type": "code",
   "execution_count": null,
   "id": "2b288c0084b985de",
   "metadata": {
    "ExecuteTime": {
     "end_time": "2023-11-23T04:37:01.165865Z",
     "start_time": "2023-11-23T04:37:01.134164Z"
    }
   },
   "outputs": [],
   "source": [
    "p_values_matrix = p_values_matrix.applymap(lambda x: x < nivel_de_significancia)\n",
    "print(p_values_matrix.T)"
   ]
  },
  {
   "cell_type": "markdown",
   "id": "7693f47b9f5ef23f",
   "metadata": {},
   "source": [
    "Como se puede ver en la matriz superior NO existe una corelacion entre las siguientes variables categoricas:\n",
    "\n",
    "1. NPCFP14F y DPTO: Departamento\n",
    "\n",
    "2. NPCFP14F y MPIO: Municipio\n",
    "\n",
    "3. NPCFP14F y NVCBP12: ¿Cuál es el material predominante de las paredes exteriores?\n",
    "\n",
    "4. NPCFP14F y NVCBP4: ¿La edificación está ubicada en un conjunto residencial?\n",
    "\n",
    "5. NPCFP14F y NVCBP10: Tipo de vivienda"
   ]
  },
  {
   "cell_type": "markdown",
   "id": "44988e86800462b8",
   "metadata": {},
   "source": [
    "Como se pudo ver en ambas encuestas de los años 2017 y 2021 coinciden en que las preguntas de: ¿Cuál es el material predominante de las paredes exteriores? (NVCBP12) y ¿La edificación está ubicada en un conjunto cerrado? (NVCBP4) no tienen corelacion alguna con las repsuestas dadas acerca de las enfermedades respiratorias en las respectivas encuentas. Del mismo modo, el municipio - departamento tampoco parce ser una variable relevante en la corelacion, esto puede deberse a falta de variabilidad en los datos.\n",
    "\n",
    "Por otro lado, la gran mayoria de otras variables escogidas tienen una alta corelacion y deben de ser tomadas en cuenta para posteriores analisis y para el modelamiento del modelo multidimensional, creación del Data mart y proceso ETL. "
   ]
  },
  {
   "cell_type": "code",
   "execution_count": null,
   "id": "4a0e6b968b741192",
   "metadata": {
    "ExecuteTime": {
     "end_time": "2023-11-23T04:37:01.166053Z",
     "start_time": "2023-11-23T04:37:01.147229Z"
    }
   },
   "outputs": [],
   "source": []
  }
 ],
 "metadata": {
  "kernelspec": {
   "display_name": "Python 3 (ipykernel)",
   "language": "python",
   "name": "python3"
  },
  "language_info": {
   "codemirror_mode": {
    "name": "ipython",
    "version": 3
   },
   "file_extension": ".py",
   "mimetype": "text/x-python",
   "name": "python",
   "nbconvert_exporter": "python",
   "pygments_lexer": "ipython3",
   "version": "3.11.0"
  }
 },
 "nbformat": 4,
 "nbformat_minor": 5
}
